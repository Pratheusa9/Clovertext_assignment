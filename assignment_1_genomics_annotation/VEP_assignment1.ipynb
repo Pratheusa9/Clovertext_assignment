{
 "cells": [
  {
   "cell_type": "code",
   "execution_count": 2,
   "metadata": {},
   "outputs": [],
   "source": [
    "import pysam\n",
    "from collections import defaultdict"
   ]
  },
  {
   "cell_type": "code",
   "execution_count": 3,
   "metadata": {},
   "outputs": [],
   "source": [
    "# Read vcf\n",
    "vcf_file = \"test1_data_1.annotated.vcf\"\n",
    "vcf = pysam.VariantFile(vcf_file)"
   ]
  },
  {
   "cell_type": "code",
   "execution_count": 4,
   "metadata": {},
   "outputs": [
    {
     "name": "stdout",
     "output_type": "stream",
     "text": [
      "Total variants in 'test1_data_1.annotated.vcf': 30726\n"
     ]
    }
   ],
   "source": [
    "## Total variants\n",
    "total_variants = defaultdict(int)\n",
    "\n",
    "# Count variants per chromosome\n",
    "for rec in vcf.fetch():\n",
    "    total_variants[rec.chrom] += 1\n",
    "\n",
    "# Total variants\n",
    "variant_count = sum(total_variants.values())\n",
    "print(f\"Total variants in '{vcf_file}': {variant_count}\")"
   ]
  },
  {
   "cell_type": "code",
   "execution_count": 5,
   "metadata": {},
   "outputs": [],
   "source": [
    "## Find column indices for SYMBOL, PHENO and SLIN_SIG\n",
    "symbol_index = pheno_index = clin_index = None\n",
    "with open(vcf_file) as f:\n",
    "    for line in f:\n",
    "        if line.startswith(\"##INFO=<ID=CSQ\"):\n",
    "            header = line.split(\"Format:\")[1].split('\"')[0].strip()\n",
    "            csq_fields = header.split(\"|\")\n",
    "            symbol_index = csq_fields.index(\"SYMBOL\") if \"SYMBOL\" in csq_fields else None\n",
    "            pheno_index = csq_fields.index(\"PHENO\") if \"PHENO\" in csq_fields else None\n",
    "            clin_index  = csq_fields.index(\"CLIN_SIG\") if \"CLIN_SIG\" in csq_fields else None\n",
    "            break\n",
    "\n",
    "if symbol_index is None or pheno_index is None or clin_index is None:\n",
    "    raise ValueError(\"SYMBOL, PHENO, or CLIN_SIG field not found in CSQ header\")"
   ]
  },
  {
   "cell_type": "code",
   "execution_count": 6,
   "metadata": {},
   "outputs": [
    {
     "name": "stdout",
     "output_type": "stream",
     "text": [
      "Number of unique genes: 15890\n",
      "Few genes: ['PLEKHA1', 'JDP2', 'SMU1', 'ACOT4', 'NKG7', 'ZNF341', 'FAM91A1', 'RBM23', 'AC074117.13', 'MIR98', 'WDR91', 'RP11-344E13.3', 'RNF182', 'SNX19', 'OR4K15', 'PCDHGB7', 'PSMA7', 'NFATC2', 'CTD-2306M10.1', 'MAGEF1']\n"
     ]
    }
   ],
   "source": [
    "## Count unique genes\n",
    "unique_genes = set()\n",
    "with open(vcf_file) as f:\n",
    "    for line in f:\n",
    "        if line.startswith(\"#\"):\n",
    "            continue\n",
    "        info = line.strip().split(\"\\t\")[7]\n",
    "        for entry in info.split(\";\"):\n",
    "            if entry.startswith(\"CSQ=\"):\n",
    "                csq_entries = entry[len(\"CSQ=\"):].split(\",\")\n",
    "                for csq in csq_entries:\n",
    "                    fields = csq.split(\"|\")\n",
    "                    if len(fields) > symbol_index:\n",
    "                        gene = fields[symbol_index]\n",
    "                        if gene:\n",
    "                            unique_genes.add(gene)\n",
    "                break\n",
    "\n",
    "print(f\"Number of unique genes: {len(unique_genes)}\")\n",
    "print(\"Few genes:\", list(unique_genes)[:20])"
   ]
  },
  {
   "cell_type": "code",
   "execution_count": 7,
   "metadata": {},
   "outputs": [
    {
     "name": "stdout",
     "output_type": "stream",
     "text": [
      "\n",
      "Number of unique traits/disease conditions: 2\n",
      "traits: ['1', '0']\n"
     ]
    }
   ],
   "source": [
    "## Count unique traits/disease conditions\n",
    "unique_traits = set()\n",
    "with open(vcf_file) as f:\n",
    "    for line in f:\n",
    "        if line.startswith(\"#\"):\n",
    "            continue\n",
    "        info = line.strip().split(\"\\t\")[7]\n",
    "        for entry in info.split(\";\"):\n",
    "            if entry.startswith(\"CSQ=\"):\n",
    "                csq_entries = entry[len(\"CSQ=\"):].split(\",\")\n",
    "                for csq in csq_entries:\n",
    "                    fields = csq.split(\"|\")\n",
    "                    if len(fields) > pheno_index:\n",
    "                        pheno = fields[pheno_index]\n",
    "                        if pheno:\n",
    "                            for trait in pheno.split(\"&\"):\n",
    "                                unique_traits.add(trait)\n",
    "                break\n",
    "\n",
    "print(f\"\\nNumber of unique traits/disease conditions: {len(unique_traits)}\")\n",
    "print(\"traits:\", list(unique_traits)[:2])"
   ]
  },
  {
   "cell_type": "code",
   "execution_count": 8,
   "metadata": {},
   "outputs": [
    {
     "name": "stdout",
     "output_type": "stream",
     "text": [
      "\n",
      "Number of pathogenic/likely pathogenic variants: 16\n",
      "Some examples:\n",
      "1:155264120 pathogenic\n",
      "1:155264120 pathogenic\n",
      "1:155264120 pathogenic\n",
      "1:155264120 pathogenic\n",
      "1:155264120 pathogenic\n",
      "1:155264120 pathogenic\n",
      "1:226923505 likely_pathogenic\n",
      "1:226923505 likely_pathogenic\n",
      "1:226923505 likely_pathogenic\n",
      "1:226923938 likely_pathogenic\n",
      "1:226923938 likely_pathogenic\n",
      "1:226923938 likely_pathogenic\n",
      "6:38821025 pathogenic\n",
      "6:38821025 pathogenic\n",
      "6:38821025 pathogenic\n",
      "6:38821025 pathogenic\n"
     ]
    }
   ],
   "source": [
    "## List pathogenic/likely pathogenic variants\n",
    "pathogenic_variants = []\n",
    "with open(vcf_file) as f:\n",
    "    for line in f:\n",
    "        if line.startswith(\"#\"):\n",
    "            continue\n",
    "        cols = line.strip().split(\"\\t\")\n",
    "        chrom, pos = cols[0], cols[1]\n",
    "        info = cols[7]\n",
    "        for entry in info.split(\";\"):\n",
    "            if entry.startswith(\"CSQ=\"):\n",
    "                csq_entries = entry[len(\"CSQ=\"):].split(\",\")\n",
    "                for csq in csq_entries:\n",
    "                    fields = csq.split(\"|\")\n",
    "                    if len(fields) > clin_index:\n",
    "                        clin_sig = fields[clin_index].lower()\n",
    "                        if clin_sig in [\"pathogenic\", \"likely_pathogenic\", \"likely pathogenic\"]:  # only these two\n",
    "                            pathogenic_variants.append(f\"{chrom}:{pos} {clin_sig}\")\n",
    "                break\n",
    "\n",
    "print(f\"\\nNumber of pathogenic/likely pathogenic variants: {len(pathogenic_variants)}\")\n",
    "print(\"Some examples:\")\n",
    "print(\"\\n\".join(pathogenic_variants[:20]))"
   ]
  },
  {
   "cell_type": "code",
   "execution_count": 9,
   "metadata": {},
   "outputs": [
    {
     "name": "stdout",
     "output_type": "stream",
     "text": [
      "CHROM  TOTAL  WITH_ID  WITHOUT_ID\n",
      "1      3112   3112     0         \n",
      "10     1359   1359     0         \n",
      "11     2100   2100     0         \n",
      "12     1544   1544     0         \n",
      "13     551    551      0         \n",
      "14     1125   1125     0         \n",
      "15     1023   1023     0         \n",
      "16     1207   1207     0         \n",
      "17     1872   1872     0         \n",
      "18     490    490      0         \n",
      "19     2226   2226     0         \n",
      "2      2017   2017     0         \n",
      "20     830    830      0         \n",
      "21     435    435      0         \n",
      "22     772    772      0         \n",
      "3      1763   1763     0         \n",
      "4      1269   1269     0         \n",
      "5      1363   1363     0         \n",
      "6      1655   1655     0         \n",
      "7      1322   1322     0         \n",
      "8      1010   1010     0         \n",
      "9      1271   1271     0         \n",
      "X      408    408      0         \n",
      "Y      2      2        0         \n"
     ]
    }
   ],
   "source": [
    "## Per chromosome: count variations and SNP IDs, identify variants without SNP IDs\n",
    "total_variants = defaultdict(int)\n",
    "with_snpid = defaultdict(int)\n",
    "without_snpid_variants = defaultdict(list)\n",
    "\n",
    "for rec in vcf.fetch():\n",
    "    chrom = rec.chrom\n",
    "    total_variants[chrom] += 1\n",
    "    if rec.id != \".\":\n",
    "        with_snpid[chrom] += 1\n",
    "    else:\n",
    "        without_snpid_variants[chrom].append(f\"{chrom}:{rec.pos}\")  # store chr:pos for variants without ID\n",
    "\n",
    "# Print summary\n",
    "print(f\"{'CHROM':<6} {'TOTAL':<6} {'WITH_ID':<8} {'WITHOUT_ID':<10}\")\n",
    "for chrom in sorted(total_variants.keys()):\n",
    "    total = total_variants[chrom]\n",
    "    with_id = with_snpid.get(chrom, 0)\n",
    "    without_id = total - with_id\n",
    "    print(f\"{chrom:<6} {total:<6} {with_id:<8} {without_id:<10}\")"
   ]
  },
  {
   "cell_type": "code",
   "execution_count": 10,
   "metadata": {},
   "outputs": [
    {
     "name": "stdout",
     "output_type": "stream",
     "text": [
      "\n",
      "Comprehensive log written to vcf1_analysis_log.txt\n"
     ]
    }
   ],
   "source": [
    "## Write log file\n",
    "log_file = \"vcf1_analysis_log.txt\"\n",
    "with open(log_file, \"w\") as f:\n",
    "    f.write(f\"Total variants in '{vcf_file}': {variant_count}\\n\\n\")\n",
    "    \n",
    "    f.write(\"=== Unique Genes ===\\n\")\n",
    "    f.write(f\"Total unique genes: {len(unique_genes)}\\n\")\n",
    "    # Few examples of unique genes after total count\n",
    "    f.write(\"Few examples of unique genes:\\n\")\n",
    "    f.write(\", \".join(list(unique_genes)[:20]) + \"\\n\\n\")\n",
    "\n",
    "    f.write(\"=== Unique Traits/Disease Conditions ===\\n\")\n",
    "    f.write(f\"Total unique traits: {len(unique_traits)}\\n\")\n",
    "    f.write(\", \".join(list(unique_traits)[:50]) + \"\\n\\n\")\n",
    "\n",
    "    f.write(\"=== Pathogenic/Likely Pathogenic Variants ===\\n\")\n",
    "    f.write(f\"Total pathogenic variants: {len(pathogenic_variants)}\\n\")\n",
    "    f.write(\"\\n\".join(pathogenic_variants[:50]) + \"\\n\\n\")\n",
    "\n",
    "    f.write(\"=== Per-Chromosome Variant Summary ===\\n\")\n",
    "    f.write(f\"{'CHROM':<6} {'TOTAL':<6} {'WITH_ID':<8} {'WITHOUT_ID':<10}\\n\")\n",
    "    for chrom in sorted(total_variants.keys()):\n",
    "        total = total_variants[chrom]\n",
    "        with_id = with_snpid.get(chrom, 0)\n",
    "        without_id = total - with_id\n",
    "        f.write(f\"{chrom:<6} {total:<6} {with_id:<8} {without_id:<10}\\n\")\n",
    "\n",
    "print(f\"\\nComprehensive log written to {log_file}\")"
   ]
  }
 ],
 "metadata": {
  "kernelspec": {
   "display_name": "Python 3",
   "language": "python",
   "name": "python3"
  },
  "language_info": {
   "codemirror_mode": {
    "name": "ipython",
    "version": 3
   },
   "file_extension": ".py",
   "mimetype": "text/x-python",
   "name": "python",
   "nbconvert_exporter": "python",
   "pygments_lexer": "ipython3",
   "version": "3.8.5"
  }
 },
 "nbformat": 4,
 "nbformat_minor": 4
}
